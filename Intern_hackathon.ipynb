{
  "nbformat": 4,
  "nbformat_minor": 0,
  "metadata": {
    "colab": {
      "name": "Untitled10.ipynb",
      "provenance": []
    },
    "kernelspec": {
      "name": "python3",
      "display_name": "Python 3"
    },
    "language_info": {
      "name": "python"
    }
  },
  "cells": [
    {
      "cell_type": "code",
      "metadata": {
        "id": "rrDUenDiDUMy"
      },
      "source": [
        "# Importing the required libraries# Importing the required libraries\n",
        "\n",
        "import numpy as np\n",
        "import pandas as pd\n",
        "import matplotlib.pyplot as plt\n",
        "import seaborn as sns\n",
        "# Suppressing Warnings\n",
        "import warnings\n",
        "warnings.filterwarnings('ignore')"
      ],
      "execution_count": 3,
      "outputs": []
    },
    {
      "cell_type": "code",
      "metadata": {
        "colab": {
          "base_uri": "https://localhost:8080/",
          "height": 204
        },
        "id": "6izMry4dDdm9",
        "outputId": "9df1c836-44d0-47da-ac54-24277133d7ca"
      },
      "source": [
        "#Step: 1 Load Dataset\n",
        "df = pd.read_csv('/content/sample_data/data.csv')\n",
        "df.head()"
      ],
      "execution_count": 4,
      "outputs": [
        {
          "output_type": "execute_result",
          "data": {
            "text/html": [
              "<div>\n",
              "<style scoped>\n",
              "    .dataframe tbody tr th:only-of-type {\n",
              "        vertical-align: middle;\n",
              "    }\n",
              "\n",
              "    .dataframe tbody tr th {\n",
              "        vertical-align: top;\n",
              "    }\n",
              "\n",
              "    .dataframe thead th {\n",
              "        text-align: right;\n",
              "    }\n",
              "</style>\n",
              "<table border=\"1\" class=\"dataframe\">\n",
              "  <thead>\n",
              "    <tr style=\"text-align: right;\">\n",
              "      <th></th>\n",
              "      <th>x1</th>\n",
              "      <th>x2</th>\n",
              "      <th>y</th>\n",
              "    </tr>\n",
              "  </thead>\n",
              "  <tbody>\n",
              "    <tr>\n",
              "      <th>0</th>\n",
              "      <td>-119.366669</td>\n",
              "      <td>115.000000</td>\n",
              "      <td>1</td>\n",
              "    </tr>\n",
              "    <tr>\n",
              "      <th>1</th>\n",
              "      <td>-101.108044</td>\n",
              "      <td>97.777159</td>\n",
              "      <td>1</td>\n",
              "    </tr>\n",
              "    <tr>\n",
              "      <th>2</th>\n",
              "      <td>-130.278658</td>\n",
              "      <td>106.767654</td>\n",
              "      <td>1</td>\n",
              "    </tr>\n",
              "    <tr>\n",
              "      <th>3</th>\n",
              "      <td>-114.703415</td>\n",
              "      <td>101.195477</td>\n",
              "      <td>1</td>\n",
              "    </tr>\n",
              "    <tr>\n",
              "      <th>4</th>\n",
              "      <td>-119.366669</td>\n",
              "      <td>115.000000</td>\n",
              "      <td>1</td>\n",
              "    </tr>\n",
              "  </tbody>\n",
              "</table>\n",
              "</div>"
            ],
            "text/plain": [
              "           x1          x2  y\n",
              "0 -119.366669  115.000000  1\n",
              "1 -101.108044   97.777159  1\n",
              "2 -130.278658  106.767654  1\n",
              "3 -114.703415  101.195477  1\n",
              "4 -119.366669  115.000000  1"
            ]
          },
          "metadata": {
            "tags": []
          },
          "execution_count": 4
        }
      ]
    },
    {
      "cell_type": "code",
      "metadata": {
        "colab": {
          "base_uri": "https://localhost:8080/"
        },
        "id": "2G8AbitJDu65",
        "outputId": "06f911ca-27bd-45e4-a345-56991aa53ade"
      },
      "source": [
        "df.info()"
      ],
      "execution_count": 5,
      "outputs": [
        {
          "output_type": "stream",
          "text": [
            "<class 'pandas.core.frame.DataFrame'>\n",
            "RangeIndex: 2227 entries, 0 to 2226\n",
            "Data columns (total 3 columns):\n",
            " #   Column  Non-Null Count  Dtype  \n",
            "---  ------  --------------  -----  \n",
            " 0   x1      2222 non-null   float64\n",
            " 1   x2      2224 non-null   float64\n",
            " 2   y       2227 non-null   int64  \n",
            "dtypes: float64(2), int64(1)\n",
            "memory usage: 52.3 KB\n"
          ],
          "name": "stdout"
        }
      ]
    },
    {
      "cell_type": "code",
      "metadata": {
        "colab": {
          "base_uri": "https://localhost:8080/",
          "height": 297
        },
        "id": "TsyKpO2fDxj7",
        "outputId": "d27d37d2-75cd-4955-c54b-57b5ffca36bd"
      },
      "source": [
        "df.describe()"
      ],
      "execution_count": 6,
      "outputs": [
        {
          "output_type": "execute_result",
          "data": {
            "text/html": [
              "<div>\n",
              "<style scoped>\n",
              "    .dataframe tbody tr th:only-of-type {\n",
              "        vertical-align: middle;\n",
              "    }\n",
              "\n",
              "    .dataframe tbody tr th {\n",
              "        vertical-align: top;\n",
              "    }\n",
              "\n",
              "    .dataframe thead th {\n",
              "        text-align: right;\n",
              "    }\n",
              "</style>\n",
              "<table border=\"1\" class=\"dataframe\">\n",
              "  <thead>\n",
              "    <tr style=\"text-align: right;\">\n",
              "      <th></th>\n",
              "      <th>x1</th>\n",
              "      <th>x2</th>\n",
              "      <th>y</th>\n",
              "    </tr>\n",
              "  </thead>\n",
              "  <tbody>\n",
              "    <tr>\n",
              "      <th>count</th>\n",
              "      <td>2222.000000</td>\n",
              "      <td>2.224000e+03</td>\n",
              "      <td>2227.000000</td>\n",
              "    </tr>\n",
              "    <tr>\n",
              "      <th>mean</th>\n",
              "      <td>-4.818766</td>\n",
              "      <td>8.947626e+04</td>\n",
              "      <td>0.442299</td>\n",
              "    </tr>\n",
              "    <tr>\n",
              "      <th>std</th>\n",
              "      <td>74.939909</td>\n",
              "      <td>2.983323e+06</td>\n",
              "      <td>0.496771</td>\n",
              "    </tr>\n",
              "    <tr>\n",
              "      <th>min</th>\n",
              "      <td>-134.369160</td>\n",
              "      <td>-1.348761e+02</td>\n",
              "      <td>0.000000</td>\n",
              "    </tr>\n",
              "    <tr>\n",
              "      <th>25%</th>\n",
              "      <td>-71.757030</td>\n",
              "      <td>-8.012983e+01</td>\n",
              "      <td>0.000000</td>\n",
              "    </tr>\n",
              "    <tr>\n",
              "      <th>50%</th>\n",
              "      <td>-9.836555</td>\n",
              "      <td>-1.046151e+00</td>\n",
              "      <td>0.000000</td>\n",
              "    </tr>\n",
              "    <tr>\n",
              "      <th>75%</th>\n",
              "      <td>59.813962</td>\n",
              "      <td>6.389086e+01</td>\n",
              "      <td>1.000000</td>\n",
              "    </tr>\n",
              "    <tr>\n",
              "      <th>max</th>\n",
              "      <td>134.508687</td>\n",
              "      <td>1.000000e+08</td>\n",
              "      <td>1.000000</td>\n",
              "    </tr>\n",
              "  </tbody>\n",
              "</table>\n",
              "</div>"
            ],
            "text/plain": [
              "                x1            x2            y\n",
              "count  2222.000000  2.224000e+03  2227.000000\n",
              "mean     -4.818766  8.947626e+04     0.442299\n",
              "std      74.939909  2.983323e+06     0.496771\n",
              "min    -134.369160 -1.348761e+02     0.000000\n",
              "25%     -71.757030 -8.012983e+01     0.000000\n",
              "50%      -9.836555 -1.046151e+00     0.000000\n",
              "75%      59.813962  6.389086e+01     1.000000\n",
              "max     134.508687  1.000000e+08     1.000000"
            ]
          },
          "metadata": {
            "tags": []
          },
          "execution_count": 6
        }
      ]
    },
    {
      "cell_type": "code",
      "metadata": {
        "colab": {
          "base_uri": "https://localhost:8080/"
        },
        "id": "__EYS908Dz78",
        "outputId": "97486b3c-ab42-4dd3-a5b9-0f02a0471172"
      },
      "source": [
        "df.isnull().sum()"
      ],
      "execution_count": 7,
      "outputs": [
        {
          "output_type": "execute_result",
          "data": {
            "text/plain": [
              "x1    5\n",
              "x2    3\n",
              "y     0\n",
              "dtype: int64"
            ]
          },
          "metadata": {
            "tags": []
          },
          "execution_count": 7
        }
      ]
    },
    {
      "cell_type": "code",
      "metadata": {
        "id": "rwhsh8EZD3F5"
      },
      "source": [
        "#Missing value treating\n",
        "df[\"x1\"].fillna( method ='ffill', inplace = True)\n",
        "df[\"x2\"].fillna( method ='ffill', inplace = True)"
      ],
      "execution_count": 8,
      "outputs": []
    },
    {
      "cell_type": "code",
      "metadata": {
        "colab": {
          "base_uri": "https://localhost:8080/"
        },
        "id": "dvg8ZwTdD6hN",
        "outputId": "188b2dfb-4a27-4f94-bab1-112a1ba1f08c"
      },
      "source": [
        "df.isnull().sum()"
      ],
      "execution_count": 9,
      "outputs": [
        {
          "output_type": "execute_result",
          "data": {
            "text/plain": [
              "x1    0\n",
              "x2    0\n",
              "y     0\n",
              "dtype: int64"
            ]
          },
          "metadata": {
            "tags": []
          },
          "execution_count": 9
        }
      ]
    },
    {
      "cell_type": "code",
      "metadata": {
        "colab": {
          "base_uri": "https://localhost:8080/",
          "height": 693
        },
        "id": "Ko-dVTHoD8Ep",
        "outputId": "2997af43-d4a1-4ad1-f6d7-e8a8d9dc0f8d"
      },
      "source": [
        "df.hist(figsize=(10,10))"
      ],
      "execution_count": 10,
      "outputs": [
        {
          "output_type": "execute_result",
          "data": {
            "text/plain": [
              "array([[<matplotlib.axes._subplots.AxesSubplot object at 0x7f05d21b0e10>,\n",
              "        <matplotlib.axes._subplots.AxesSubplot object at 0x7f05d2177ed0>],\n",
              "       [<matplotlib.axes._subplots.AxesSubplot object at 0x7f05d213c590>,\n",
              "        <matplotlib.axes._subplots.AxesSubplot object at 0x7f05d20efc10>]],\n",
              "      dtype=object)"
            ]
          },
          "metadata": {
            "tags": []
          },
          "execution_count": 10
        },
        {
          "output_type": "display_data",
          "data": {
            "image/png": "[encoded data removed]",
            "text/plain": [
              "<Figure size 720x720 with 4 Axes>"
            ]
          },
          "metadata": {
            "tags": [],
            "needs_background": "light"
          }
        }
      ]
    },
    {
      "cell_type": "code",
      "metadata": {
        "colab": {
          "base_uri": "https://localhost:8080/",
          "height": 296
        },
        "id": "4akKwo0uEAEs",
        "outputId": "26176c36-afd2-4243-bbaf-410fc11042f3"
      },
      "source": [
        "sns.boxplot(x=df['x1'])"
      ],
      "execution_count": 11,
      "outputs": [
        {
          "output_type": "execute_result",
          "data": {
            "text/plain": [
              "<matplotlib.axes._subplots.AxesSubplot at 0x7f05d1f7d7d0>"
            ]
          },
          "metadata": {
            "tags": []
          },
          "execution_count": 11
        },
        {
          "output_type": "display_data",
          "data": {
            "image/png": "[encoded data removed]",
            "text/plain": [
              "<Figure size 432x288 with 1 Axes>"
            ]
          },
          "metadata": {
            "tags": [],
            "needs_background": "light"
          }
        }
      ]
    },
    {
      "cell_type": "code",
      "metadata": {
        "colab": {
          "base_uri": "https://localhost:8080/",
          "height": 296
        },
        "id": "IzGVxkQoEDu6",
        "outputId": "0c7a605e-325a-4ca6-9063-fd68efa7ff19"
      },
      "source": [
        "sns.boxplot(x=df['x2'])"
      ],
      "execution_count": 12,
      "outputs": [
        {
          "output_type": "execute_result",
          "data": {
            "text/plain": [
              "<matplotlib.axes._subplots.AxesSubplot at 0x7f05d1afa2d0>"
            ]
          },
          "metadata": {
            "tags": []
          },
          "execution_count": 12
        },
        {
          "output_type": "display_data",
          "data": {
            "image/png": "[encoded data removed]",
            "text/plain": [
              "<Figure size 432x288 with 1 Axes>"
            ]
          },
          "metadata": {
            "tags": [],
            "needs_background": "light"
          }
        }
      ]
    },
    {
      "cell_type": "code",
      "metadata": {
        "colab": {
          "base_uri": "https://localhost:8080/",
          "height": 296
        },
        "id": "Rd10vhN-EFJe",
        "outputId": "b29cbdba-c892-4a78-8ccf-944d31a3e426"
      },
      "source": [
        "#Outliear Treating\n",
        "iqr = 1.5 * (np.percentile(df['x2'], 75) - np.percentile(df['x2'], 25))\n",
        "df.drop(df[df['x2'] > (iqr + np.percentile(df['x2'], 75))].index, inplace=True)\n",
        "df.drop(df[df['x2'] < (np.percentile(df['x2'], 25) - iqr)].index, inplace=True)\n",
        "sns.boxplot(df['x2'])"
      ],
      "execution_count": 13,
      "outputs": [
        {
          "output_type": "execute_result",
          "data": {
            "text/plain": [
              "<matplotlib.axes._subplots.AxesSubplot at 0x7f05d177e290>"
            ]
          },
          "metadata": {
            "tags": []
          },
          "execution_count": 13
        },
        {
          "output_type": "display_data",
          "data": {
            "image/png": "[encoded data removed]",
            "text/plain": [
              "<Figure size 432x288 with 1 Axes>"
            ]
          },
          "metadata": {
            "tags": [],
            "needs_background": "light"
          }
        }
      ]
    },
    {
      "cell_type": "code",
      "metadata": {
        "colab": {
          "base_uri": "https://localhost:8080/"
        },
        "id": "X9zy2BRQELmG",
        "outputId": "78034ef0-82b6-4c1f-e244-332a71781850"
      },
      "source": [
        "df.shape"
      ],
      "execution_count": 14,
      "outputs": [
        {
          "output_type": "execute_result",
          "data": {
            "text/plain": [
              "(2225, 3)"
            ]
          },
          "metadata": {
            "tags": []
          },
          "execution_count": 14
        }
      ]
    },
    {
      "cell_type": "code",
      "metadata": {
        "colab": {
          "base_uri": "https://localhost:8080/",
          "height": 279
        },
        "id": "isWUkPEhEOwG",
        "outputId": "0fe8edf3-acb8-4ccd-94d9-e7f1cf7e466c"
      },
      "source": [
        "df['y'].value_counts().plot(kind=\"bar\")"
      ],
      "execution_count": 15,
      "outputs": [
        {
          "output_type": "execute_result",
          "data": {
            "text/plain": [
              "<matplotlib.axes._subplots.AxesSubplot at 0x7f05d1a6a650>"
            ]
          },
          "metadata": {
            "tags": []
          },
          "execution_count": 15
        },
        {
          "output_type": "display_data",
          "data": {
            "image/png": "[encoded data removed]",
            "text/plain": [
              "<Figure size 432x288 with 1 Axes>"
            ]
          },
          "metadata": {
            "tags": [],
            "needs_background": "light"
          }
        }
      ]
    },
    {
      "cell_type": "code",
      "metadata": {
        "colab": {
          "base_uri": "https://localhost:8080/",
          "height": 286
        },
        "id": "buufsP8NER2D",
        "outputId": "a400b719-4f0c-47ec-dfbb-7bc98b266e1e"
      },
      "source": [
        "#Bivariate Analysis\n",
        "corr=df.corr()\n",
        "sns.heatmap(corr,annot=True)"
      ],
      "execution_count": 16,
      "outputs": [
        {
          "output_type": "execute_result",
          "data": {
            "text/plain": [
              "<matplotlib.axes._subplots.AxesSubplot at 0x7f05d1f75250>"
            ]
          },
          "metadata": {
            "tags": []
          },
          "execution_count": 16
        },
        {
          "output_type": "display_data",
          "data": {
            "image/png": "[encoded data removed]",
            "text/plain": [
              "<Figure size 432x288 with 2 Axes>"
            ]
          },
          "metadata": {
            "tags": [],
            "needs_background": "light"
          }
        }
      ]
    },
    {
      "cell_type": "code",
      "metadata": {
        "colab": {
          "base_uri": "https://localhost:8080/",
          "height": 282
        },
        "id": "kpfdaqKhEVd8",
        "outputId": "29d48b79-f4ec-40d5-e7b9-2fccda6a380a"
      },
      "source": [
        "x= df['x1']\n",
        "y=df['x2']\n",
        "plt.scatter(x,y)"
      ],
      "execution_count": 17,
      "outputs": [
        {
          "output_type": "execute_result",
          "data": {
            "text/plain": [
              "<matplotlib.collections.PathCollection at 0x7f05d0f5e850>"
            ]
          },
          "metadata": {
            "tags": []
          },
          "execution_count": 17
        },
        {
          "output_type": "display_data",
          "data": {
            "image/png": "[encoded data removed]",
            "text/plain": [
              "<Figure size 432x288 with 1 Axes>"
            ]
          },
          "metadata": {
            "tags": [],
            "needs_background": "light"
          }
        }
      ]
    },
    {
      "cell_type": "code",
      "metadata": {
        "colab": {
          "base_uri": "https://localhost:8080/",
          "height": 204
        },
        "id": "M8zESXJlEYrK",
        "outputId": "cc6765f4-2ad9-4ec9-d321-9e83386bb2bf"
      },
      "source": [
        "# Independent variables\n",
        "X = df.drop(columns = ['y'],axis = 1)\n",
        "X.head()"
      ],
      "execution_count": 18,
      "outputs": [
        {
          "output_type": "execute_result",
          "data": {
            "text/html": [
              "<div>\n",
              "<style scoped>\n",
              "    .dataframe tbody tr th:only-of-type {\n",
              "        vertical-align: middle;\n",
              "    }\n",
              "\n",
              "    .dataframe tbody tr th {\n",
              "        vertical-align: top;\n",
              "    }\n",
              "\n",
              "    .dataframe thead th {\n",
              "        text-align: right;\n",
              "    }\n",
              "</style>\n",
              "<table border=\"1\" class=\"dataframe\">\n",
              "  <thead>\n",
              "    <tr style=\"text-align: right;\">\n",
              "      <th></th>\n",
              "      <th>x1</th>\n",
              "      <th>x2</th>\n",
              "    </tr>\n",
              "  </thead>\n",
              "  <tbody>\n",
              "    <tr>\n",
              "      <th>0</th>\n",
              "      <td>-119.366669</td>\n",
              "      <td>115.000000</td>\n",
              "    </tr>\n",
              "    <tr>\n",
              "      <th>1</th>\n",
              "      <td>-101.108044</td>\n",
              "      <td>97.777159</td>\n",
              "    </tr>\n",
              "    <tr>\n",
              "      <th>2</th>\n",
              "      <td>-130.278658</td>\n",
              "      <td>106.767654</td>\n",
              "    </tr>\n",
              "    <tr>\n",
              "      <th>3</th>\n",
              "      <td>-114.703415</td>\n",
              "      <td>101.195477</td>\n",
              "    </tr>\n",
              "    <tr>\n",
              "      <th>4</th>\n",
              "      <td>-119.366669</td>\n",
              "      <td>115.000000</td>\n",
              "    </tr>\n",
              "  </tbody>\n",
              "</table>\n",
              "</div>"
            ],
            "text/plain": [
              "           x1          x2\n",
              "0 -119.366669  115.000000\n",
              "1 -101.108044   97.777159\n",
              "2 -130.278658  106.767654\n",
              "3 -114.703415  101.195477\n",
              "4 -119.366669  115.000000"
            ]
          },
          "metadata": {
            "tags": []
          },
          "execution_count": 18
        }
      ]
    },
    {
      "cell_type": "code",
      "metadata": {
        "colab": {
          "base_uri": "https://localhost:8080/"
        },
        "id": "pLWWs7HZEa5U",
        "outputId": "7a7a529d-65e2-47dc-ffba-16fdbcc3c63f"
      },
      "source": [
        "# Dependent variable\n",
        "y = df['y']\n",
        "y.head()"
      ],
      "execution_count": 19,
      "outputs": [
        {
          "output_type": "execute_result",
          "data": {
            "text/plain": [
              "0    1\n",
              "1    1\n",
              "2    1\n",
              "3    1\n",
              "4    1\n",
              "Name: y, dtype: int64"
            ]
          },
          "metadata": {
            "tags": []
          },
          "execution_count": 19
        }
      ]
    },
    {
      "cell_type": "code",
      "metadata": {
        "id": "IvtQDU1HEdG5"
      },
      "source": [
        "#Spliting\n",
        "from sklearn.model_selection import train_test_split"
      ],
      "execution_count": 20,
      "outputs": []
    },
    {
      "cell_type": "code",
      "metadata": {
        "colab": {
          "base_uri": "https://localhost:8080/"
        },
        "id": "-BR6sWygEhdR",
        "outputId": "32bd75f0-ae11-48e7-e42d-8da6ba27ae0b"
      },
      "source": [
        "#Lets use train_test_split to split X and y into train and test \n",
        "X_train, X_test, y_train, y_test = train_test_split(X, y, test_size = 0.3, random_state = 100)\n",
        "print(X_train.shape, X_test.shape, y_train.shape, y_test.shape)"
      ],
      "execution_count": 21,
      "outputs": [
        {
          "output_type": "stream",
          "text": [
            "(1557, 2) (668, 2) (1557,) (668,)\n"
          ],
          "name": "stdout"
        }
      ]
    },
    {
      "cell_type": "code",
      "metadata": {
        "id": "YGkDTpOnEjug"
      },
      "source": [
        "from sklearn.metrics import confusion_matrix, classification_report, accuracy_score"
      ],
      "execution_count": 22,
      "outputs": []
    },
    {
      "cell_type": "code",
      "metadata": {
        "id": "4TodEbKPEmQc"
      },
      "source": [
        "#Logistic Regression\n",
        "from sklearn.linear_model import LogisticRegression\n",
        "log_model = LogisticRegression()"
      ],
      "execution_count": 23,
      "outputs": []
    },
    {
      "cell_type": "code",
      "metadata": {
        "colab": {
          "base_uri": "https://localhost:8080/"
        },
        "id": "wBMWmr4ZEpx6",
        "outputId": "3cbf9611-c35c-4569-dcee-317099f149ce"
      },
      "source": [
        "import time\n",
        "start= time.time()\n",
        "\n",
        "log_model.fit(X_train,y_train)\n",
        "y_pred_log= log_model.predict(X_test)\n",
        "\n",
        "log_model_acc=accuracy_score(y_test,y_pred_log)\n",
        "print('Accuracy of '+log_model.__class__.__name__+' is ' +str(log_model_acc))\n",
        "\n",
        "end=time.time()\n",
        "log_dur=end-start\n",
        "print(log_dur)"
      ],
      "execution_count": 24,
      "outputs": [
        {
          "output_type": "stream",
          "text": [
            "Accuracy of LogisticRegression is 0.7245508982035929\n",
            "0.01769089698791504\n"
          ],
          "name": "stdout"
        }
      ]
    },
    {
      "cell_type": "code",
      "metadata": {
        "colab": {
          "base_uri": "https://localhost:8080/",
          "height": 242
        },
        "id": "W110ybvNEskC",
        "outputId": "e4f6df0f-04e0-4c42-ed3e-9b0eed16d8da"
      },
      "source": [
        "cm = confusion_matrix(y_test,y_pred_log)\n",
        "plt.figure(figsize = (5,3))\n",
        "\n",
        "sns.heatmap(cm,annot = True,fmt = '0.2f',xticklabels=['class-0','class-1'],\n",
        "           yticklabels=['class-0','class-1'],cbar=False)\n",
        "plt.xlabel('Predicted Values')\n",
        "plt.ylabel('True Values')"
      ],
      "execution_count": 25,
      "outputs": [
        {
          "output_type": "execute_result",
          "data": {
            "text/plain": [
              "Text(24.0, 0.5, 'True Values')"
            ]
          },
          "metadata": {
            "tags": []
          },
          "execution_count": 25
        },
        {
          "output_type": "display_data",
          "data": {
            "image/png": "[encoded data removed]",
            "text/plain": [
              "<Figure size 360x216 with 1 Axes>"
            ]
          },
          "metadata": {
            "tags": [],
            "needs_background": "light"
          }
        }
      ]
    },
    {
      "cell_type": "code",
      "metadata": {
        "colab": {
          "base_uri": "https://localhost:8080/"
        },
        "id": "la9cTCjUExCF",
        "outputId": "46a3ef6d-cd38-4c34-dd92-5a0df6de42ad"
      },
      "source": [
        "cr = classification_report(y_test,y_pred_log)\n",
        "print(cr)"
      ],
      "execution_count": 26,
      "outputs": [
        {
          "output_type": "stream",
          "text": [
            "              precision    recall  f1-score   support\n",
            "\n",
            "           0       0.66      1.00      0.80       361\n",
            "           1       1.00      0.40      0.57       307\n",
            "\n",
            "    accuracy                           0.72       668\n",
            "   macro avg       0.83      0.70      0.68       668\n",
            "weighted avg       0.82      0.72      0.69       668\n",
            "\n"
          ],
          "name": "stdout"
        }
      ]
    },
    {
      "cell_type": "code",
      "metadata": {
        "id": "0ApZpaEBMMc-"
      },
      "source": [
        "#Hyperparameters Tuning for Logistic Regression"
      ],
      "execution_count": 27,
      "outputs": []
    },
    {
      "cell_type": "code",
      "metadata": {
        "colab": {
          "base_uri": "https://localhost:8080/"
        },
        "id": "vAkZWvZjMPUP",
        "outputId": "189c47db-740e-4fa3-8c4b-66bd67677969"
      },
      "source": [
        "from sklearn.model_selection import GridSearchCV\n",
        "from sklearn.model_selection import RandomizedSearchCV\n",
        "\n",
        "grid={\"solver\" :['newton-cg', 'lbfgs', 'liblinear'],\n",
        "       \"penalty\" :['l2','l1'],\n",
        "       \"C\" : [1.0, 0.1, 0.01]}\n",
        "\n",
        "\n",
        "cv_model=GridSearchCV(LogisticRegression(),param_grid=grid,cv=5,scoring='accuracy')\n",
        "cv_model.fit(X_train,y_train)"
      ],
      "execution_count": 28,
      "outputs": [
        {
          "output_type": "execute_result",
          "data": {
            "text/plain": [
              "GridSearchCV(cv=5, error_score=nan,\n",
              "             estimator=LogisticRegression(C=1.0, class_weight=None, dual=False,\n",
              "                                          fit_intercept=True,\n",
              "                                          intercept_scaling=1, l1_ratio=None,\n",
              "                                          max_iter=100, multi_class='auto',\n",
              "                                          n_jobs=None, penalty='l2',\n",
              "                                          random_state=None, solver='lbfgs',\n",
              "                                          tol=0.0001, verbose=0,\n",
              "                                          warm_start=False),\n",
              "             iid='deprecated', n_jobs=None,\n",
              "             param_grid={'C': [1.0, 0.1, 0.01], 'penalty': ['l2', 'l1'],\n",
              "                         'solver': ['newton-cg', 'lbfgs', 'liblinear']},\n",
              "             pre_dispatch='2*n_jobs', refit=True, return_train_score=False,\n",
              "             scoring='accuracy', verbose=0)"
            ]
          },
          "metadata": {
            "tags": []
          },
          "execution_count": 28
        }
      ]
    },
    {
      "cell_type": "code",
      "metadata": {
        "colab": {
          "base_uri": "https://localhost:8080/"
        },
        "id": "fZu5klgZMPrg",
        "outputId": "fb837d28-9bbb-48c0-b3c5-4b197dd518fe"
      },
      "source": [
        "cv_model.best_params_"
      ],
      "execution_count": 29,
      "outputs": [
        {
          "output_type": "execute_result",
          "data": {
            "text/plain": [
              "{'C': 0.01, 'penalty': 'l2', 'solver': 'liblinear'}"
            ]
          },
          "metadata": {
            "tags": []
          },
          "execution_count": 29
        }
      ]
    },
    {
      "cell_type": "code",
      "metadata": {
        "colab": {
          "base_uri": "https://localhost:8080/"
        },
        "id": "RbCwo_h8MP96",
        "outputId": "475d5b0b-aae1-4f09-8a39-82180c33fb55"
      },
      "source": [
        "cv_model.best_score_"
      ],
      "execution_count": 30,
      "outputs": [
        {
          "output_type": "execute_result",
          "data": {
            "text/plain": [
              "0.7694348256245362"
            ]
          },
          "metadata": {
            "tags": []
          },
          "execution_count": 30
        }
      ]
    },
    {
      "cell_type": "code",
      "metadata": {
        "id": "_Ymgkm7tEyxk"
      },
      "source": [
        "#SVM with Linear kernal\n",
        "from sklearn import svm\n",
        "C = 1.0  # SVM regularization parameter\n",
        "svm_lin_model = (svm.SVC(kernel='linear', C=C))"
      ],
      "execution_count": 31,
      "outputs": []
    },
    {
      "cell_type": "code",
      "metadata": {
        "colab": {
          "base_uri": "https://localhost:8080/"
        },
        "id": "_8fP5i4yFiY4",
        "outputId": "5e42cca1-5d67-40ba-901c-27d2abbca58e"
      },
      "source": [
        "import time\n",
        "start= time.time()\n",
        "\n",
        "svm_lin_model.fit(X_train,y_train)\n",
        "y_pred_svm_lin= svm_lin_model.predict(X_test)\n",
        "\n",
        "svm_lin_model_acc=accuracy_score(y_test,y_pred_svm_lin)\n",
        "print('Accuracy of '+svm_lin_model.__class__.__name__+' is ' +str(svm_lin_model_acc))\n",
        "end=time.time()\n",
        "svm_lin_dur=end-start\n",
        "print(svm_lin_dur)"
      ],
      "execution_count": 32,
      "outputs": [
        {
          "output_type": "stream",
          "text": [
            "Accuracy of SVC is 0.6961077844311377\n",
            "43.646796464920044\n"
          ],
          "name": "stdout"
        }
      ]
    },
    {
      "cell_type": "code",
      "metadata": {
        "colab": {
          "base_uri": "https://localhost:8080/"
        },
        "id": "A9_0ej8hFoEb",
        "outputId": "36ec726b-431d-4a3d-e3c8-9fd6f17e9625"
      },
      "source": [
        "cr = classification_report(y_test,y_pred_svm_lin)\n",
        "print(cr)"
      ],
      "execution_count": 33,
      "outputs": [
        {
          "output_type": "stream",
          "text": [
            "              precision    recall  f1-score   support\n",
            "\n",
            "           0       0.64      1.00      0.78       361\n",
            "           1       1.00      0.34      0.51       307\n",
            "\n",
            "    accuracy                           0.70       668\n",
            "   macro avg       0.82      0.67      0.64       668\n",
            "weighted avg       0.81      0.70      0.65       668\n",
            "\n"
          ],
          "name": "stdout"
        }
      ]
    },
    {
      "cell_type": "code",
      "metadata": {
        "id": "8rPKA73FGE3Y"
      },
      "source": [
        "#Support Vector Classifier\n",
        "from sklearn.svm import SVC"
      ],
      "execution_count": 34,
      "outputs": []
    },
    {
      "cell_type": "code",
      "metadata": {
        "colab": {
          "base_uri": "https://localhost:8080/"
        },
        "id": "XEQZGEpMGKWL",
        "outputId": "e6d66f0d-31b3-4264-a8fc-0ac45b5115f2"
      },
      "source": [
        "import time\n",
        "start= time.time()\n",
        "svm_rbf_model = SVC(C = 1)\n",
        "svm_rbf_model.fit(X_train,y_train)\n",
        "y_pred_svm_rbf= svm_rbf_model.predict(X_test)\n",
        "\n",
        "svm_rbf_model_acc=accuracy_score(y_test,y_pred_svm_rbf)\n",
        "print('Accuracy of '+svm_rbf_model.__class__.__name__+' is ' +str(svm_rbf_model_acc))\n",
        "end=time.time()\n",
        "svm_rbf_dur=end-start\n",
        "print(svm_rbf_dur)"
      ],
      "execution_count": 35,
      "outputs": [
        {
          "output_type": "stream",
          "text": [
            "Accuracy of SVC is 0.9535928143712575\n",
            "0.02528834342956543\n"
          ],
          "name": "stdout"
        }
      ]
    },
    {
      "cell_type": "code",
      "metadata": {
        "colab": {
          "base_uri": "https://localhost:8080/"
        },
        "id": "Me2ODrKUGT1-",
        "outputId": "f0a3df24-1cf9-4ed4-de2b-2c078182d71f"
      },
      "source": [
        "cr = classification_report(y_test,y_pred_svm_rbf)\n",
        "print(cr)"
      ],
      "execution_count": 36,
      "outputs": [
        {
          "output_type": "stream",
          "text": [
            "              precision    recall  f1-score   support\n",
            "\n",
            "           0       0.96      0.96      0.96       361\n",
            "           1       0.95      0.95      0.95       307\n",
            "\n",
            "    accuracy                           0.95       668\n",
            "   macro avg       0.95      0.95      0.95       668\n",
            "weighted avg       0.95      0.95      0.95       668\n",
            "\n"
          ],
          "name": "stdout"
        }
      ]
    },
    {
      "cell_type": "code",
      "metadata": {
        "id": "3L2KulvoRjdw"
      },
      "source": [
        "hyper_params = [{'gamma': [1e-2,1e-3,1e-4],\n",
        "               'C': [1,10,100,1000],\n",
        "                'kernel':['rbf','linear']}]"
      ],
      "execution_count": 37,
      "outputs": []
    },
    {
      "cell_type": "code",
      "metadata": {
        "id": "eHNydRabW-Ec"
      },
      "source": [
        "model = SVC()\n",
        "\n",
        "#set up grid search scheme\n",
        "model_cv=GridSearchCV(estimator=model,\n",
        "                      param_grid=hyper_params,\n",
        "                      scoring=\"accuracy\",\n",
        "                      verbose=1,\n",
        "                      return_train_score=True)"
      ],
      "execution_count": 38,
      "outputs": []
    },
    {
      "cell_type": "code",
      "metadata": {
        "id": "xpN4jygJXqgi"
      },
      "source": [
        ""
      ],
      "execution_count": 39,
      "outputs": []
    },
    {
      "cell_type": "code",
      "metadata": {
        "id": "VlMjYbTfXq7q"
      },
      "source": [
        ""
      ],
      "execution_count": 39,
      "outputs": []
    },
    {
      "cell_type": "code",
      "metadata": {
        "id": "kkVo1pK7Gm3n"
      },
      "source": [
        "#Decision tree\n",
        "from sklearn.tree import DecisionTreeClassifier\n",
        "model_tree = DecisionTreeClassifier(criterion = 'gini', max_depth = None)"
      ],
      "execution_count": 40,
      "outputs": []
    },
    {
      "cell_type": "code",
      "metadata": {
        "colab": {
          "base_uri": "https://localhost:8080/"
        },
        "id": "yCXkT6-gGyVd",
        "outputId": "b7dc7959-dbd5-4690-f2de-d1addbd1c55d"
      },
      "source": [
        "model_tree.fit(X_train,y_train)"
      ],
      "execution_count": 41,
      "outputs": [
        {
          "output_type": "execute_result",
          "data": {
            "text/plain": [
              "DecisionTreeClassifier(ccp_alpha=0.0, class_weight=None, criterion='gini',\n",
              "                       max_depth=None, max_features=None, max_leaf_nodes=None,\n",
              "                       min_impurity_decrease=0.0, min_impurity_split=None,\n",
              "                       min_samples_leaf=1, min_samples_split=2,\n",
              "                       min_weight_fraction_leaf=0.0, presort='deprecated',\n",
              "                       random_state=None, splitter='best')"
            ]
          },
          "metadata": {
            "tags": []
          },
          "execution_count": 41
        }
      ]
    },
    {
      "cell_type": "code",
      "metadata": {
        "id": "3qZBhbcRHfPL"
      },
      "source": [
        "y_pred_tree = model_tree.predict(X_test)"
      ],
      "execution_count": 42,
      "outputs": []
    },
    {
      "cell_type": "code",
      "metadata": {
        "colab": {
          "base_uri": "https://localhost:8080/"
        },
        "id": "ZQBixz52H44D",
        "outputId": "178f6e98-0315-4e2a-fcc2-8d0b45fa0e35"
      },
      "source": [
        "model_tree_acc=accuracy_score(y_test,y_pred_tree)\n",
        "print('Accuracy of '+model_tree.__class__.__name__+' is ' +str(model_tree_acc))"
      ],
      "execution_count": 43,
      "outputs": [
        {
          "output_type": "stream",
          "text": [
            "Accuracy of DecisionTreeClassifier is 0.9311377245508982\n"
          ],
          "name": "stdout"
        }
      ]
    },
    {
      "cell_type": "code",
      "metadata": {
        "colab": {
          "base_uri": "https://localhost:8080/",
          "height": 242
        },
        "id": "xKKz2yATHqZa",
        "outputId": "9e6eb0e0-597f-4506-d897-0a47346bd03c"
      },
      "source": [
        "cm = confusion_matrix(y_test,y_pred_tree)\n",
        "plt.figure(figsize = (5,3))\n",
        "\n",
        "sns.heatmap(cm,annot = True,fmt = '0.2f',xticklabels=['class-0','class-1'],\n",
        "           yticklabels=['class-0','class-1'],cbar=False)\n",
        "plt.xlabel('Predicted Values')\n",
        "plt.ylabel('True Values')"
      ],
      "execution_count": 44,
      "outputs": [
        {
          "output_type": "execute_result",
          "data": {
            "text/plain": [
              "Text(24.0, 0.5, 'True Values')"
            ]
          },
          "metadata": {
            "tags": []
          },
          "execution_count": 44
        },
        {
          "output_type": "display_data",
          "data": {
            "image/png": "[encoded data removed]",
            "text/plain": [
              "<Figure size 360x216 with 1 Axes>"
            ]
          },
          "metadata": {
            "tags": [],
            "needs_background": "light"
          }
        }
      ]
    },
    {
      "cell_type": "code",
      "metadata": {
        "colab": {
          "base_uri": "https://localhost:8080/"
        },
        "id": "GT9tEA-0HuAf",
        "outputId": "80f664fb-abd7-40fd-d262-f7fe5b4ec97c"
      },
      "source": [
        "cr = classification_report(y_test,y_pred_tree)\n",
        "print(cr)"
      ],
      "execution_count": 45,
      "outputs": [
        {
          "output_type": "stream",
          "text": [
            "              precision    recall  f1-score   support\n",
            "\n",
            "           0       0.93      0.94      0.94       361\n",
            "           1       0.93      0.92      0.92       307\n",
            "\n",
            "    accuracy                           0.93       668\n",
            "   macro avg       0.93      0.93      0.93       668\n",
            "weighted avg       0.93      0.93      0.93       668\n",
            "\n"
          ],
          "name": "stdout"
        }
      ]
    },
    {
      "cell_type": "code",
      "metadata": {
        "colab": {
          "base_uri": "https://localhost:8080/"
        },
        "id": "V_zlWuHjNJ3Q",
        "outputId": "7d2373a1-5357-470e-c8bc-495b4c09bb37"
      },
      "source": [
        "#Hyperparameter tuning for decision tree\n",
        "\n",
        "from sklearn.model_selection import GridSearchCV\n",
        "grid={\"criterion\" :[\"gini\",\"entrophy\"],\n",
        "       \"max_depth\" :range(1,10),\n",
        "       \"min_samples_split\":range(3,10),\n",
        "       \"min_samples_leaf\":range(2,10)\n",
        "     }\n",
        "       \n",
        "cv3 = GridSearchCV(DecisionTreeClassifier(),param_grid=grid,cv=5,scoring='accuracy')\n",
        "cv3.fit(X_train,y_train)"
      ],
      "execution_count": 46,
      "outputs": [
        {
          "output_type": "execute_result",
          "data": {
            "text/plain": [
              "GridSearchCV(cv=5, error_score=nan,\n",
              "             estimator=DecisionTreeClassifier(ccp_alpha=0.0, class_weight=None,\n",
              "                                              criterion='gini', max_depth=None,\n",
              "                                              max_features=None,\n",
              "                                              max_leaf_nodes=None,\n",
              "                                              min_impurity_decrease=0.0,\n",
              "                                              min_impurity_split=None,\n",
              "                                              min_samples_leaf=1,\n",
              "                                              min_samples_split=2,\n",
              "                                              min_weight_fraction_leaf=0.0,\n",
              "                                              presort='deprecated',\n",
              "                                              random_state=None,\n",
              "                                              splitter='best'),\n",
              "             iid='deprecated', n_jobs=None,\n",
              "             param_grid={'criterion': ['gini', 'entrophy'],\n",
              "                         'max_depth': range(1, 10),\n",
              "                         'min_samples_leaf': range(2, 10),\n",
              "                         'min_samples_split': range(3, 10)},\n",
              "             pre_dispatch='2*n_jobs', refit=True, return_train_score=False,\n",
              "             scoring='accuracy', verbose=0)"
            ]
          },
          "metadata": {
            "tags": []
          },
          "execution_count": 46
        }
      ]
    },
    {
      "cell_type": "code",
      "metadata": {
        "colab": {
          "base_uri": "https://localhost:8080/"
        },
        "id": "0pYHoNboNKQ3",
        "outputId": "8c1949cd-9afc-4bb2-e5c1-880fcec42ffb"
      },
      "source": [
        "cv3.best_params_"
      ],
      "execution_count": 47,
      "outputs": [
        {
          "output_type": "execute_result",
          "data": {
            "text/plain": [
              "{'criterion': 'gini',\n",
              " 'max_depth': 9,\n",
              " 'min_samples_leaf': 3,\n",
              " 'min_samples_split': 8}"
            ]
          },
          "metadata": {
            "tags": []
          },
          "execution_count": 47
        }
      ]
    },
    {
      "cell_type": "code",
      "metadata": {
        "colab": {
          "base_uri": "https://localhost:8080/"
        },
        "id": "uM7Xeg07NKkD",
        "outputId": "c4b0ae5e-2067-4ff5-b0ac-f4dd269754a2"
      },
      "source": [
        "cv3.best_score_"
      ],
      "execution_count": 48,
      "outputs": [
        {
          "output_type": "execute_result",
          "data": {
            "text/plain": [
              "0.9492456096957704"
            ]
          },
          "metadata": {
            "tags": []
          },
          "execution_count": 48
        }
      ]
    },
    {
      "cell_type": "code",
      "metadata": {
        "id": "luSDru2RHwXL"
      },
      "source": [
        "#K-Nearest Neighbour Classifier\n",
        "from sklearn.neighbors import KNeighborsClassifier"
      ],
      "execution_count": 49,
      "outputs": []
    },
    {
      "cell_type": "code",
      "metadata": {
        "colab": {
          "base_uri": "https://localhost:8080/"
        },
        "id": "c6HdwAKJILlL",
        "outputId": "d8573454-3e6a-4f37-d563-2b7f4eceddef"
      },
      "source": [
        "model_knn = KNeighborsClassifier(n_neighbors=5,metric='minkowski',p = 2)\n",
        "model_knn.fit(X_train,y_train)"
      ],
      "execution_count": 50,
      "outputs": [
        {
          "output_type": "execute_result",
          "data": {
            "text/plain": [
              "KNeighborsClassifier(algorithm='auto', leaf_size=30, metric='minkowski',\n",
              "                     metric_params=None, n_jobs=None, n_neighbors=5, p=2,\n",
              "                     weights='uniform')"
            ]
          },
          "metadata": {
            "tags": []
          },
          "execution_count": 50
        }
      ]
    },
    {
      "cell_type": "code",
      "metadata": {
        "id": "29nFfU1BISDU"
      },
      "source": [
        "y_pred_knn = model_knn.predict(X_test)"
      ],
      "execution_count": 51,
      "outputs": []
    },
    {
      "cell_type": "code",
      "metadata": {
        "colab": {
          "base_uri": "https://localhost:8080/"
        },
        "id": "TUkPEW0ZIWp2",
        "outputId": "5980652a-f32e-4c29-e0a7-de1945e08c6f"
      },
      "source": [
        "model_knn_acc=accuracy_score(y_test,y_pred_knn)\n",
        "print('Accuracy of '+model_knn.__class__.__name__+' is ' +str(model_knn_acc))"
      ],
      "execution_count": 52,
      "outputs": [
        {
          "output_type": "stream",
          "text": [
            "Accuracy of KNeighborsClassifier is 0.9491017964071856\n"
          ],
          "name": "stdout"
        }
      ]
    },
    {
      "cell_type": "code",
      "metadata": {
        "colab": {
          "base_uri": "https://localhost:8080/",
          "height": 242
        },
        "id": "ASyk02L2IiHr",
        "outputId": "f4799e86-7dbe-4c14-95d2-8835089ca5b1"
      },
      "source": [
        "cm = confusion_matrix(y_test,y_pred_knn)\n",
        "plt.figure(figsize = (5,3))\n",
        "\n",
        "sns.heatmap(cm,annot = True,fmt = '0.2f',xticklabels=['class-0','class-1'],\n",
        "           yticklabels=['class-0','class-1'],cbar=False)\n",
        "plt.xlabel('Predicted Values')\n",
        "plt.ylabel('True Values')"
      ],
      "execution_count": 53,
      "outputs": [
        {
          "output_type": "execute_result",
          "data": {
            "text/plain": [
              "Text(24.0, 0.5, 'True Values')"
            ]
          },
          "metadata": {
            "tags": []
          },
          "execution_count": 53
        },
        {
          "output_type": "display_data",
          "data": {
            "image/png": "[encoded data removed]",
            "text/plain": [
              "<Figure size 360x216 with 1 Axes>"
            ]
          },
          "metadata": {
            "tags": [],
            "needs_background": "light"
          }
        }
      ]
    },
    {
      "cell_type": "code",
      "metadata": {
        "colab": {
          "base_uri": "https://localhost:8080/"
        },
        "id": "Dq4SDHJoImCz",
        "outputId": "a2b21716-3f23-4d0b-d22f-4ada7662ca59"
      },
      "source": [
        "cr = classification_report(y_test,y_pred_knn)\n",
        "print(cr)"
      ],
      "execution_count": 54,
      "outputs": [
        {
          "output_type": "stream",
          "text": [
            "              precision    recall  f1-score   support\n",
            "\n",
            "           0       0.95      0.96      0.95       361\n",
            "           1       0.95      0.94      0.94       307\n",
            "\n",
            "    accuracy                           0.95       668\n",
            "   macro avg       0.95      0.95      0.95       668\n",
            "weighted avg       0.95      0.95      0.95       668\n",
            "\n"
          ],
          "name": "stdout"
        }
      ]
    },
    {
      "cell_type": "code",
      "metadata": {
        "colab": {
          "base_uri": "https://localhost:8080/"
        },
        "id": "rctk8CoKIqbi",
        "outputId": "8b5a727b-a9a1-4a32-c126-4a050584ac25"
      },
      "source": [
        "#With Hyper Parameters Tuning\n",
        "#2-4,kNearestNeighbors\n",
        "#importing modules\n",
        "from sklearn.model_selection import GridSearchCV\n",
        "from sklearn.neighbors import KNeighborsClassifier\n",
        "#making the instance\n",
        "model = KNeighborsClassifier(n_jobs=-1)\n",
        "#Hyper Parameters Set\n",
        "params = {'n_neighbors':[5,6,7,8,9,10],\n",
        "          'leaf_size':[1,2,3,5],\n",
        "          'weights':['uniform', 'distance'],\n",
        "          'algorithm':['auto', 'ball_tree','kd_tree','brute'],\n",
        "          'n_jobs':[-1]}\n",
        "#Making models with hyper parameters sets\n",
        "model1 = GridSearchCV(model, param_grid=params, n_jobs=1)\n",
        "#Learning\n",
        "model1.fit(X_train,y_train)\n",
        "#The best hyper parameters set\n",
        "print(\"Best Hyper Parameters:\\n\",model1.best_params_)\n",
        "#Prediction\n",
        "prediction=model1.predict(X_test)\n",
        "#importing the metrics module\n",
        "from sklearn import metrics\n",
        "#evaluation(Accuracy)\n",
        "print(\"Accuracy:\",metrics.accuracy_score(prediction,y_test))\n",
        "#evaluation(Confusion Metrix)\n",
        "print(\"Confusion Metrix:\\n\",metrics.confusion_matrix(prediction,y_test))"
      ],
      "execution_count": 55,
      "outputs": [
        {
          "output_type": "stream",
          "text": [
            "Best Hyper Parameters:\n",
            " {'algorithm': 'auto', 'leaf_size': 1, 'n_jobs': -1, 'n_neighbors': 8, 'weights': 'uniform'}\n",
            "Accuracy: 0.9446107784431138\n",
            "Confusion Metrix:\n",
            " [[348  24]\n",
            " [ 13 283]]\n"
          ],
          "name": "stdout"
        }
      ]
    },
    {
      "cell_type": "code",
      "metadata": {
        "id": "391dcO-4kDLQ"
      },
      "source": [
        ""
      ],
      "execution_count": null,
      "outputs": []
    },
    {
      "cell_type": "markdown",
      "metadata": {
        "id": "YqR2l0PskjdI"
      },
      "source": [
        "SVM with rbf kernal model is the best among all the models because accuracy is high and data is overlap so rbf kernal easily classify like this complex problem. \n",
        "I have built all the model and also done hyperparameter tunning. I couldnt do hyperparameter tunning in SVM model because its was taking lot of time and laptop processor too low..."
      ]
    },
    {
      "cell_type": "code",
      "metadata": {
        "id": "1JdpfIUjmB42"
      },
      "source": [
        ""
      ],
      "execution_count": null,
      "outputs": []
    }
  ]
}